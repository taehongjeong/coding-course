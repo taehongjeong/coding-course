{
 "cells": [
  {
   "cell_type": "markdown",
   "metadata": {},
   "source": [
    "# Week 02: Linked List & Stack - 실습 노트북\n",
    "\n",
    "---"
   ]
  },
  {
   "cell_type": "markdown",
   "metadata": {},
   "source": [
    "## 🔧 필수 라이브러리 Import"
   ]
  },
  {
   "cell_type": "code",
   "execution_count": 1,
   "metadata": {},
   "outputs": [
    {
     "name": "stdout",
     "output_type": "stream",
     "text": [
      "Python version: 3.13.7 (main, Aug 14 2025, 11:12:11) [Clang 17.0.0 (clang-1700.0.13.3)]\n",
      "라이브러리 import 완료!\n"
     ]
    }
   ],
   "source": [
    "# 표준 라이브러리\n",
    "import sys\n",
    "from typing import List, Optional, Tuple, Dict, Set\n",
    "import time\n",
    "\n",
    "# 자료구조 관련\n",
    "from collections import deque, defaultdict, Counter\n",
    "from heapq import heappush, heappop, heapify\n",
    "from bisect import bisect_left, bisect_right\n",
    "\n",
    "# 알고리즘 관련\n",
    "from functools import lru_cache, reduce\n",
    "from itertools import permutations, combinations, product, accumulate\n",
    "import math\n",
    "\n",
    "# 시각화 (선택)\n",
    "# import matplotlib.pyplot as plt\n",
    "# import numpy as np\n",
    "\n",
    "print(\"Python version:\", sys.version)\n",
    "print(\"라이브러리 import 완료!\")"
   ]
  },
  {
   "cell_type": "markdown",
   "metadata": {},
   "source": [
    "## 🎯 Section 1: 핵심 개념 구현\n",
    "\n",
    "### 1.1 Linked List 기본 구현"
   ]
  },
  {
   "cell_type": "code",
   "execution_count": 2,
   "metadata": {},
   "outputs": [
    {
     "name": "stdout",
     "output_type": "stream",
     "text": [
      "=== Linked List 테스트 ===\n",
      "연결 리스트: [1, 2, 3, 4, 5]\n"
     ]
    }
   ],
   "source": [
    "# 개념 1: Linked List 노드와 기본 연산\n",
    "class ListNode:\n",
    "    \"\"\"연결 리스트 노드 클래스\"\"\"\n",
    "    def __init__(self, val=0, next=None):\n",
    "        self.val = val\n",
    "        self.next = next\n",
    "\n",
    "class LinkedList:\n",
    "    \"\"\"\n",
    "    단일 연결 리스트 구현\n",
    "    \n",
    "    시간복잡도:\n",
    "    - append: O(n)\n",
    "    - prepend: O(1)\n",
    "    - delete: O(n)\n",
    "    공간복잡도: O(n)\n",
    "    \"\"\"\n",
    "    def __init__(self):\n",
    "        self.head = None\n",
    "    \n",
    "    def append(self, val):\n",
    "        \"\"\"끝에 노드 추가\"\"\"\n",
    "        new_node = ListNode(val)\n",
    "        if not self.head:\n",
    "            self.head = new_node\n",
    "            return\n",
    "        current = self.head\n",
    "        while current.next:\n",
    "            current = current.next\n",
    "        current.next = new_node\n",
    "    \n",
    "    def display(self):\n",
    "        \"\"\"리스트 출력\"\"\"\n",
    "        result = []\n",
    "        current = self.head\n",
    "        while current:\n",
    "            result.append(current.val)\n",
    "            current = current.next\n",
    "        return result\n",
    "\n",
    "# 테스트\n",
    "print(\"=== Linked List 테스트 ===\")\n",
    "ll = LinkedList()\n",
    "for i in [1, 2, 3, 4, 5]:\n",
    "    ll.append(i)\n",
    "print(f\"연결 리스트: {ll.display()}\")"
   ]
  },
  {
   "cell_type": "markdown",
   "metadata": {},
   "source": [
    "### 1.2 Stack 기본 구현"
   ]
  },
  {
   "cell_type": "code",
   "execution_count": 3,
   "metadata": {},
   "outputs": [
    {
     "name": "stdout",
     "output_type": "stream",
     "text": [
      "=== Stack 테스트 ===\n",
      "Push 10, Stack size: 1\n",
      "Push 20, Stack size: 2\n",
      "Push 30, Stack size: 3\n",
      "Peek: 30\n",
      "Pop: 30\n",
      "Stack size after pop: 2\n"
     ]
    }
   ],
   "source": [
    "# 개념 2: Stack 구현\n",
    "class Stack:\n",
    "    \"\"\"\n",
    "    리스트 기반 스택 구현\n",
    "    \n",
    "    시간복잡도: 모든 연산 O(1)\n",
    "    공간복잡도: O(n)\n",
    "    \"\"\"\n",
    "    def __init__(self):\n",
    "        self.items = []\n",
    "    \n",
    "    def push(self, item):\n",
    "        self.items.append(item)\n",
    "    \n",
    "    def pop(self):\n",
    "        if not self.is_empty():\n",
    "            return self.items.pop()\n",
    "        return None\n",
    "    \n",
    "    def peek(self):\n",
    "        if not self.is_empty():\n",
    "            return self.items[-1]\n",
    "        return None\n",
    "    \n",
    "    def is_empty(self):\n",
    "        return len(self.items) == 0\n",
    "    \n",
    "    def size(self):\n",
    "        return len(self.items)\n",
    "\n",
    "# 테스트\n",
    "print(\"=== Stack 테스트 ===\")\n",
    "stack = Stack()\n",
    "for i in [10, 20, 30]:\n",
    "    stack.push(i)\n",
    "    print(f\"Push {i}, Stack size: {stack.size()}\")\n",
    "\n",
    "print(f\"Peek: {stack.peek()}\")\n",
    "print(f\"Pop: {stack.pop()}\")\n",
    "print(f\"Stack size after pop: {stack.size()}\")"
   ]
  },
  {
   "cell_type": "markdown",
   "metadata": {},
   "source": [
    "## 💡 Section 2: 주요 패턴 실습\n",
    "\n",
    "### 2.1 패턴 1: Floyd's Cycle Detection"
   ]
  },
  {
   "cell_type": "code",
   "execution_count": 4,
   "metadata": {},
   "outputs": [
    {
     "name": "stdout",
     "output_type": "stream",
     "text": [
      "=== Floyd's Algorithm 예시 ===\n",
      "순환 없는 리스트 [1->2->3]: False\n",
      "순환 있는 리스트 [1->2->3->1]: True\n"
     ]
    }
   ],
   "source": [
    "# 패턴 1: Floyd's Algorithm (Tortoise and Hare)\n",
    "def has_cycle(head: Optional[ListNode]) -> bool:\n",
    "    \"\"\"\n",
    "    연결 리스트 순환 감지\n",
    "    - 사용 상황: 순환 감지, 무한 루프 방지\n",
    "    - 핵심 아이디어: 두 포인터의 속도 차이 활용\n",
    "    \n",
    "    시간복잡도: O(n)\n",
    "    공간복잡도: O(1)\n",
    "    \"\"\"\n",
    "    if not head or not head.next:\n",
    "        return False\n",
    "    \n",
    "    slow = head\n",
    "    fast = head.next\n",
    "    \n",
    "    while slow != fast:\n",
    "        if not fast or not fast.next:\n",
    "            return False\n",
    "        slow = slow.next\n",
    "        fast = fast.next.next\n",
    "    \n",
    "    return True\n",
    "\n",
    "# 테스트용 순환 리스트 생성\n",
    "print(\"=== Floyd's Algorithm 예시 ===\")\n",
    "\n",
    "# 순환 없는 리스트\n",
    "node1 = ListNode(1)\n",
    "node2 = ListNode(2)\n",
    "node3 = ListNode(3)\n",
    "node1.next = node2\n",
    "node2.next = node3\n",
    "print(f\"순환 없는 리스트 [1->2->3]: {has_cycle(node1)}\")\n",
    "\n",
    "# 순환 있는 리스트\n",
    "node1 = ListNode(1)\n",
    "node2 = ListNode(2)\n",
    "node3 = ListNode(3)\n",
    "node1.next = node2\n",
    "node2.next = node3\n",
    "node3.next = node1  # 순환 생성\n",
    "print(f\"순환 있는 리스트 [1->2->3->1]: {has_cycle(node1)}\")"
   ]
  },
  {
   "cell_type": "markdown",
   "metadata": {},
   "source": [
    "### 2.2 패턴 2: Monotonic Stack"
   ]
  },
  {
   "cell_type": "code",
   "execution_count": 5,
   "metadata": {},
   "outputs": [
    {
     "name": "stdout",
     "output_type": "stream",
     "text": [
      "=== Monotonic Stack 예시 ===\n",
      "입력: [2, 1, 2, 4, 3]\n",
      "다음 큰 원소: [4, 2, 4, -1, -1]\n",
      "\n",
      "입력: [5, 4, 3, 2, 1]\n",
      "다음 큰 원소: [-1, -1, -1, -1, -1]\n",
      "\n",
      "입력: [1, 2, 3, 4, 5]\n",
      "다음 큰 원소: [2, 3, 4, 5, -1]\n",
      "\n"
     ]
    }
   ],
   "source": [
    "# 패턴 2: Monotonic Stack (단조 스택)\n",
    "def next_greater_element(nums: List[int]) -> List[int]:\n",
    "    \"\"\"\n",
    "    각 원소의 다음 큰 원소 찾기\n",
    "    - 사용 상황: 다음 큰/작은 원소, 온도 문제\n",
    "    - 핵심 아이디어: 스택에 인덱스 저장하며 단조성 유지\n",
    "    \n",
    "    시간복잡도: O(n)\n",
    "    공간복잡도: O(n)\n",
    "    \"\"\"\n",
    "    n = len(nums)\n",
    "    result = [-1] * n\n",
    "    stack = []  # 인덱스 저장\n",
    "    \n",
    "    for i in range(n):\n",
    "        # 현재 원소가 스택의 원소보다 크면 pop\n",
    "        while stack and nums[stack[-1]] < nums[i]:\n",
    "            idx = stack.pop()\n",
    "            result[idx] = nums[i]\n",
    "        stack.append(i)\n",
    "    \n",
    "    return result\n",
    "\n",
    "# 테스트\n",
    "print(\"=== Monotonic Stack 예시 ===\")\n",
    "test_cases = [\n",
    "    [2, 1, 2, 4, 3],\n",
    "    [5, 4, 3, 2, 1],\n",
    "    [1, 2, 3, 4, 5]\n",
    "]\n",
    "\n",
    "for nums in test_cases:\n",
    "    result = next_greater_element(nums)\n",
    "    print(f\"입력: {nums}\")\n",
    "    print(f\"다음 큰 원소: {result}\\n\")"
   ]
  },
  {
   "cell_type": "markdown",
   "metadata": {},
   "source": [
    "## 🔥 Section 3: LeetCode 문제 풀이\n",
    "\n",
    "### Problem 1: [20] Valid Parentheses"
   ]
  },
  {
   "cell_type": "code",
   "execution_count": 6,
   "metadata": {},
   "outputs": [
    {
     "name": "stdout",
     "output_type": "stream",
     "text": [
      "테스트: ✅\n",
      "  입력: ()\n",
      "  출력: True\n",
      "  예상: True\n",
      "\n",
      "테스트: ✅\n",
      "  입력: ()[]{}\n",
      "  출력: True\n",
      "  예상: True\n",
      "\n",
      "테스트: ✅\n",
      "  입력: (]\n",
      "  출력: False\n",
      "  예상: False\n",
      "\n",
      "테스트: ✅\n",
      "  입력: ([)]\n",
      "  출력: False\n",
      "  예상: False\n",
      "\n",
      "테스트: ✅\n",
      "  입력: {[]}\n",
      "  출력: True\n",
      "  예상: True\n",
      "\n"
     ]
    }
   ],
   "source": [
    "\"\"\"\n",
    "문제 설명:\n",
    "- 주어진 문자열이 올바른 괄호 짝을 이루는지 확인\n",
    "- 괄호 종류: '()', '{}', '[]'\n",
    "\n",
    "예시:\n",
    "Input: \"()[]{}\" \n",
    "Output: True\n",
    "\n",
    "제약사항:\n",
    "- 1 <= s.length <= 10^4\n",
    "- s는 괄호 문자만 포함\n",
    "\"\"\"\n",
    "\n",
    "class Solution:\n",
    "    def isValid(self, s: str) -> bool:\n",
    "        \"\"\"\n",
    "        접근법:\n",
    "        1. 스택을 사용하여 여는 괄호 저장\n",
    "        2. 닫는 괄호를 만나면 스택에서 pop하여 매칭 확인\n",
    "        3. 모든 문자 처리 후 스택이 비어있으면 True\n",
    "        \n",
    "        시간복잡도: O(n)\n",
    "        공간복잡도: O(n)\n",
    "        \"\"\"\n",
    "        stack = []\n",
    "        mapping = {')': '(', '}': '{', ']': '['}\n",
    "        \n",
    "        for char in s:\n",
    "            if char in mapping:\n",
    "                # 닫는 괄호\n",
    "                if not stack or stack.pop() != mapping[char]:\n",
    "                    return False\n",
    "            else:\n",
    "                # 여는 괄호\n",
    "                stack.append(char)\n",
    "        \n",
    "        return len(stack) == 0\n",
    "\n",
    "# 테스트\n",
    "solution = Solution()\n",
    "test_cases = [\n",
    "    (\"()\", True),\n",
    "    (\"()[]{}\", True),\n",
    "    (\"(]\", False),\n",
    "    (\"([)]\", False),\n",
    "    (\"{[]}\", True)\n",
    "]\n",
    "\n",
    "for s, expected in test_cases:\n",
    "    result = solution.isValid(s)\n",
    "    print(f\"테스트: {'✅' if result == expected else '❌'}\")\n",
    "    print(f\"  입력: {s}\")\n",
    "    print(f\"  출력: {result}\")\n",
    "    print(f\"  예상: {expected}\\n\")"
   ]
  },
  {
   "cell_type": "markdown",
   "metadata": {},
   "source": [
    "### Problem 2: [206] Reverse Linked List"
   ]
  },
  {
   "cell_type": "code",
   "execution_count": 7,
   "metadata": {},
   "outputs": [
    {
     "name": "stdout",
     "output_type": "stream",
     "text": [
      "테스트: ✅\n",
      "  입력: [1, 2, 3, 4, 5]\n",
      "  출력: [5, 4, 3, 2, 1]\n",
      "  예상: [5, 4, 3, 2, 1]\n",
      "\n",
      "테스트: ✅\n",
      "  입력: [1, 2]\n",
      "  출력: [2, 1]\n",
      "  예상: [2, 1]\n",
      "\n",
      "테스트: ✅\n",
      "  입력: [1]\n",
      "  출력: [1]\n",
      "  예상: [1]\n",
      "\n",
      "테스트: ✅\n",
      "  입력: []\n",
      "  출력: []\n",
      "  예상: []\n",
      "\n"
     ]
    }
   ],
   "source": [
    "\"\"\"\n",
    "문제 설명:\n",
    "- 단일 연결 리스트를 뒤집기\n",
    "\n",
    "예시:\n",
    "Input: 1->2->3->4->5\n",
    "Output: 5->4->3->2->1\n",
    "\n",
    "제약사항:\n",
    "- 노드 수는 [0, 5000] 범위\n",
    "\"\"\"\n",
    "\n",
    "class Solution:\n",
    "    def reverseList(self, head: Optional[ListNode]) -> Optional[ListNode]:\n",
    "        \"\"\"\n",
    "        접근법:\n",
    "        1. 세 개의 포인터 사용: prev, current, next\n",
    "        2. 각 노드의 next를 prev로 변경\n",
    "        3. 포인터들을 한 칸씩 전진\n",
    "        \n",
    "        시간복잡도: O(n)\n",
    "        공간복잡도: O(1)\n",
    "        \"\"\"\n",
    "        prev = None\n",
    "        current = head\n",
    "        \n",
    "        while current:\n",
    "            next_temp = current.next\n",
    "            current.next = prev\n",
    "            prev = current\n",
    "            current = next_temp\n",
    "        \n",
    "        return prev\n",
    "\n",
    "# 헬퍼 함수: 리스트를 연결 리스트로 변환\n",
    "def create_linked_list(arr):\n",
    "    if not arr:\n",
    "        return None\n",
    "    head = ListNode(arr[0])\n",
    "    current = head\n",
    "    for val in arr[1:]:\n",
    "        current.next = ListNode(val)\n",
    "        current = current.next\n",
    "    return head\n",
    "\n",
    "# 헬퍼 함수: 연결 리스트를 리스트로 변환\n",
    "def linked_list_to_array(head):\n",
    "    result = []\n",
    "    while head:\n",
    "        result.append(head.val)\n",
    "        head = head.next\n",
    "    return result\n",
    "\n",
    "# 테스트\n",
    "solution = Solution()\n",
    "test_cases = [\n",
    "    ([1, 2, 3, 4, 5], [5, 4, 3, 2, 1]),\n",
    "    ([1, 2], [2, 1]),\n",
    "    ([1], [1]),\n",
    "    ([], [])\n",
    "]\n",
    "\n",
    "for input_arr, expected in test_cases:\n",
    "    head = create_linked_list(input_arr)\n",
    "    reversed_head = solution.reverseList(head)\n",
    "    result = linked_list_to_array(reversed_head)\n",
    "    print(f\"테스트: {'✅' if result == expected else '❌'}\")\n",
    "    print(f\"  입력: {input_arr}\")\n",
    "    print(f\"  출력: {result}\")\n",
    "    print(f\"  예상: {expected}\\n\")"
   ]
  },
  {
   "cell_type": "markdown",
   "metadata": {},
   "source": [
    "## 📝 Section 4: 핵심 정리 및 팁\n",
    "\n",
    "### 이번 주 핵심 포인트"
   ]
  },
  {
   "cell_type": "markdown",
   "metadata": {},
   "source": [
    "#### 1. **Linked List의 핵심**\n",
    "- 더미 노드 활용으로 엣지 케이스 처리 간소화\n",
    "- Two Pointer 기법으로 O(1) 공간복잡도 달성\n",
    "- 순환 감지는 Floyd's Algorithm 사용\n",
    "\n",
    "#### 2. **Stack의 핵심**\n",
    "- LIFO 원칙 활용한 문제 해결\n",
    "- 괄호 매칭, 계산기 구현의 기본\n",
    "- Monotonic Stack으로 O(n) 시간복잡도 달성\n",
    "\n",
    "#### 3. **자주 하는 실수**\n",
    "- ❌ 연결 리스트 순회 시 None 체크 누락\n",
    "- ❌ 스택 pop() 전 empty 체크 누락\n",
    "- ✅ 항상 엣지 케이스 (빈 리스트, 단일 노드) 고려\n",
    "\n",
    "#### 4. **Python 꿀팁**\n",
    "```python\n",
    "# 더미 노드로 코드 간소화\n",
    "dummy = ListNode(0)\n",
    "dummy.next = head\n",
    "# 작업 수행...\n",
    "return dummy.next\n",
    "\n",
    "# deque를 스택으로 활용\n",
    "from collections import deque\n",
    "stack = deque()\n",
    "stack.append(item)  # O(1)\n",
    "stack.pop()         # O(1)\n",
    "```"
   ]
  }
 ],
 "metadata": {
  "kernelspec": {
   "display_name": ".venv",
   "language": "python",
   "name": "python3"
  },
  "language_info": {
   "codemirror_mode": {
    "name": "ipython",
    "version": 3
   },
   "file_extension": ".py",
   "mimetype": "text/x-python",
   "name": "python",
   "nbconvert_exporter": "python",
   "pygments_lexer": "ipython3",
   "version": "3.13.7"
  }
 },
 "nbformat": 4,
 "nbformat_minor": 4
}
